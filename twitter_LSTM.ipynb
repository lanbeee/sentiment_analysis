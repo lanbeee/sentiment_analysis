{
 "cells": [
  {
   "cell_type": "code",
   "execution_count": 25,
   "metadata": {},
   "outputs": [
    {
     "name": "stderr",
     "output_type": "stream",
     "text": [
      "C:\\ProgramData\\Anaconda3\\lib\\site-packages\\h5py\\__init__.py:36: FutureWarning: Conversion of the second argument of issubdtype from `float` to `np.floating` is deprecated. In future, it will be treated as `np.float64 == np.dtype(float).type`.\n",
      "  from ._conv import register_converters as _register_converters\n",
      "Using TensorFlow backend.\n"
     ]
    }
   ],
   "source": [
    "import pandas as pd\n",
    "import nltk\n",
    "from nltk.corpus import stopwords\n",
    "import re\n",
    "from textblob import Word\n",
    "import numpy as np\n",
    "from keras.preprocessing.text import Tokenizer\n",
    "from keras.preprocessing.sequence import pad_sequences\n",
    "from keras.layers import Embedding\n",
    "from keras import preprocessing\n",
    "from keras.models import Sequential\n",
    "from keras.layers import Flatten, Dense, CuDNNLSTM"
   ]
  },
  {
   "cell_type": "code",
   "execution_count": 20,
   "metadata": {},
   "outputs": [],
   "source": [
    "df_anger = pd.read_table('train/EI-reg-En-anger-train.txt')\n",
    "df_fear = pd.read_table('train/EI-reg-En-fear-train.txt')\n",
    "df_joy = pd.read_table('train/EI-reg-En-joy-train.txt')\n",
    "df_sadness = pd.read_table('train/EI-reg-En-sadness-train.txt')\n",
    "train_df = [df_anger,df_fear,df_joy,df_sadness]"
   ]
  },
  {
   "cell_type": "code",
   "execution_count": 21,
   "metadata": {},
   "outputs": [],
   "source": [
    "#preprocess\n",
    "stop = stopwords.words('english')\n",
    "for train in train_df:\n",
    "    train['Tweet'] = train['Tweet'].apply(lambda x: \" \".join(word.lower() for word in x.split() if not word.startswith('@')))\n",
    "    train['Tweet'] = train['Tweet'].apply(lambda x: \" \".join(x for x in x.split() if x not in stop))\n",
    "    train['Tweet'] = train['Tweet'].str.replace('[^\\w\\s]','')\n",
    "    train['Tweet'] = train['Tweet'].apply(lambda x: \" \".join([re.sub(r'(.)\\1+', r'\\1\\1', word) for word in x.split()]))\n",
    "#     train['Tweet'] = train['Tweet'].apply(lambda x: \" \".join([Word(word).lemmatize() for word in x.split()]))"
   ]
  },
  {
   "cell_type": "code",
   "execution_count": 98,
   "metadata": {},
   "outputs": [],
   "source": [
    "# Better Results with higher threshold but training sample size reduced by increasing threshold\n",
    "th = 0.6 #threshold\n",
    "tweets = (pd.concat([train_df[0][train_df[0]['Intensity Score']> th]['Tweet'],\n",
    "                     train_df[1][train_df[1]['Intensity Score']> th]['Tweet'],\n",
    "                     train_df[2][train_df[2]['Intensity Score']> th]['Tweet'],\n",
    "                     train_df[3][train_df[3]['Intensity Score']> th]['Tweet']],\n",
    "                    axis = 0)).values\n",
    "\n",
    "labels = (pd.concat([train_df[0][train_df[0]['Intensity Score']> th]['Affect Dimension'],\n",
    "                     train_df[1][train_df[1]['Intensity Score']> th]['Affect Dimension'],\n",
    "                     train_df[2][train_df[2]['Intensity Score']> th]['Affect Dimension'],\n",
    "                     train_df[3][train_df[3]['Intensity Score']> th]['Affect Dimension']],\n",
    "                    axis = 0)).values\n",
    "\n",
    "labels = pd.get_dummies(labels).values"
   ]
  },
  {
   "cell_type": "code",
   "execution_count": 100,
   "metadata": {},
   "outputs": [
    {
     "data": {
      "text/plain": [
       "2219"
      ]
     },
     "execution_count": 100,
     "metadata": {},
     "output_type": "execute_result"
    }
   ],
   "source": [
    "len(labels)"
   ]
  },
  {
   "cell_type": "code",
   "execution_count": 61,
   "metadata": {},
   "outputs": [
    {
     "data": {
      "text/plain": [
       "array([[   0,    0,    0, ...,  615,  837,    7],\n",
       "       [   0,    0,    0, ...,   56,  150,  146],\n",
       "       [   0,    0,    0, ..., 7749, 1465,   74],\n",
       "       ...,\n",
       "       [   0,    0,    0, ...,    0,  133,   54],\n",
       "       [   0,    0,    0, ...,   53, 4663,   50],\n",
       "       [   0,    0,    0, ...,  806,  809, 1908]])"
      ]
     },
     "execution_count": 61,
     "metadata": {},
     "output_type": "execute_result"
    }
   ],
   "source": [
    "data"
   ]
  },
  {
   "cell_type": "code",
   "execution_count": 101,
   "metadata": {},
   "outputs": [
    {
     "name": "stdout",
     "output_type": "stream",
     "text": [
      "Found 5838 unique tokens.\n",
      "Shape of data tensor: (2219, 140)\n",
      "Shape of label tensor: (2219, 4)\n"
     ]
    }
   ],
   "source": [
    "maxlen = 140\n",
    "training_samples = 2000\n",
    "validation_samples = 219\n",
    "max_words = 10000  # We will only consider the top 10000 words in the dataset\n",
    "\n",
    "tokenizer = Tokenizer(num_words=max_words)\n",
    "tokenizer.fit_on_texts(tweets)\n",
    "sequences = tokenizer.texts_to_sequences(tweets)\n",
    "\n",
    "word_index = tokenizer.word_index\n",
    "print('Found %s unique tokens.' % len(word_index))\n",
    "\n",
    "data = pad_sequences(sequences, maxlen=maxlen)\n",
    "\n",
    "labels = np.asarray(labels)\n",
    "print('Shape of data tensor:', data.shape)\n",
    "print('Shape of label tensor:', labels.shape)\n",
    "\n",
    "# Split the data into a training set and a validation set\n",
    "# But first, shuffle the data, since we started from data\n",
    "# where sample are ordered (all negative first, then all positive).\n",
    "indices = np.arange(data.shape[0])\n",
    "np.random.shuffle(indices)\n",
    "data = data[indices]\n",
    "labels = labels[indices]\n",
    "\n",
    "x_train = data[:training_samples]\n",
    "y_train = labels[:training_samples]\n",
    "x_val = data[training_samples: training_samples + validation_samples]\n",
    "y_val = labels[training_samples: training_samples + validation_samples]"
   ]
  },
  {
   "cell_type": "code",
   "execution_count": 67,
   "metadata": {},
   "outputs": [
    {
     "name": "stdout",
     "output_type": "stream",
     "text": [
      "Found 400000 word vectors.\n"
     ]
    }
   ],
   "source": [
    "import os\n",
    "glove_dir = 'glove/'\n",
    "\n",
    "embeddings_index = {}\n",
    "f = open(os.path.join(glove_dir, 'glove.6B.100d.txt'),encoding= 'utf8')\n",
    "for line in f:\n",
    "    values = line.split()\n",
    "    word = values[0]\n",
    "    coefs = np.asarray(values[1:], dtype='float32')\n",
    "    embeddings_index[word] = coefs\n",
    "f.close()\n",
    "\n",
    "print('Found %s word vectors.' % len(embeddings_index))"
   ]
  },
  {
   "cell_type": "code",
   "execution_count": 102,
   "metadata": {},
   "outputs": [],
   "source": [
    "embedding_dim = 100\n",
    "\n",
    "embedding_matrix = np.zeros((max_words, embedding_dim))\n",
    "for word, i in word_index.items():\n",
    "    embedding_vector = embeddings_index.get(word)\n",
    "    if i < max_words:\n",
    "        if embedding_vector is not None:\n",
    "            # Words not found in embedding index will be all-zeros.\n",
    "            embedding_matrix[i] = embedding_vector"
   ]
  },
  {
   "cell_type": "code",
   "execution_count": 105,
   "metadata": {
    "scrolled": true
   },
   "outputs": [
    {
     "name": "stdout",
     "output_type": "stream",
     "text": [
      "Train on 2000 samples, validate on 219 samples\n",
      "Epoch 1/15\n",
      "2000/2000 [==============================] - 3s 1ms/step - loss: 1.2191 - acc: 0.4675 - val_loss: 1.0387 - val_acc: 0.5799\n",
      "Epoch 2/15\n",
      "2000/2000 [==============================] - 1s 715us/step - loss: 0.7662 - acc: 0.7310 - val_loss: 0.7332 - val_acc: 0.7169\n",
      "Epoch 3/15\n",
      "2000/2000 [==============================] - 1s 707us/step - loss: 0.4618 - acc: 0.8585 - val_loss: 0.5394 - val_acc: 0.7991\n",
      "Epoch 4/15\n",
      "2000/2000 [==============================] - ETA: 0s - loss: 0.2593 - acc: 0.921 - 1s 708us/step - loss: 0.2599 - acc: 0.9205 - val_loss: 0.4966 - val_acc: 0.7854\n",
      "Epoch 5/15\n",
      "2000/2000 [==============================] - 1s 710us/step - loss: 0.1511 - acc: 0.9620 - val_loss: 0.4003 - val_acc: 0.8539\n",
      "Epoch 6/15\n",
      "2000/2000 [==============================] - 1s 710us/step - loss: 0.0861 - acc: 0.9800 - val_loss: 0.4089 - val_acc: 0.8356\n",
      "Epoch 7/15\n",
      "2000/2000 [==============================] - 1s 706us/step - loss: 0.0710 - acc: 0.9800 - val_loss: 0.4875 - val_acc: 0.8174\n",
      "Epoch 8/15\n",
      "2000/2000 [==============================] - 1s 709us/step - loss: 0.0545 - acc: 0.9820 - val_loss: 0.4355 - val_acc: 0.8311\n",
      "Epoch 9/15\n",
      "2000/2000 [==============================] - 1s 718us/step - loss: 0.0475 - acc: 0.9825 - val_loss: 0.4813 - val_acc: 0.8311\n",
      "Epoch 10/15\n",
      "2000/2000 [==============================] - 1s 711us/step - loss: 0.0407 - acc: 0.9810 - val_loss: 0.3989 - val_acc: 0.8402\n",
      "Epoch 11/15\n",
      "2000/2000 [==============================] - 1s 734us/step - loss: 0.0361 - acc: 0.9825 - val_loss: 0.4566 - val_acc: 0.8402\n",
      "Epoch 12/15\n",
      "2000/2000 [==============================] - 2s 755us/step - loss: 0.0364 - acc: 0.9845 - val_loss: 0.5269 - val_acc: 0.8174\n",
      "Epoch 13/15\n",
      "2000/2000 [==============================] - 1s 735us/step - loss: 0.0326 - acc: 0.9840 - val_loss: 0.4540 - val_acc: 0.8447\n",
      "Epoch 14/15\n",
      "2000/2000 [==============================] - 1s 731us/step - loss: 0.0299 - acc: 0.9860 - val_loss: 0.5036 - val_acc: 0.8311\n",
      "Epoch 15/15\n",
      "2000/2000 [==============================] - 1s 739us/step - loss: 0.0315 - acc: 0.9835 - val_loss: 0.4359 - val_acc: 0.8402\n"
     ]
    }
   ],
   "source": [
    "model = Sequential()\n",
    "# model.add(Embedding(max_words, embedding_dim, input_length=maxlen))\n",
    "model.add(Embedding(max_words, embedding_dim, weights=[embedding_matrix], input_length=maxlen))\n",
    "model.add(CuDNNLSTM(32))\n",
    "model.add(Dense(4, activation='softmax'))\n",
    "\n",
    "model.compile(optimizer='adam',\n",
    "              loss='categorical_crossentropy',\n",
    "              metrics=['acc'])\n",
    "history = model.fit(x_train, y_train,\n",
    "                    epochs=15,\n",
    "                    batch_size=32,\n",
    "                    validation_data=(x_val, y_val))"
   ]
  },
  {
   "cell_type": "code",
   "execution_count": 87,
   "metadata": {},
   "outputs": [
    {
     "data": {
      "text/plain": [
       "array([ 0.38116 , -0.23609 ,  0.30581 ,  0.40604 ,  0.47422 , -1.1652  ,\n",
       "        0.58543 , -0.42291 , -0.43639 , -0.15835 ,  0.24699 , -0.018789,\n",
       "        0.58137 , -0.49755 ,  0.041687, -0.5897  , -0.3294  ,  0.36925 ,\n",
       "        0.78821 ,  0.14787 , -0.21123 , -0.31178 ,  0.19986 ,  1.8647  ,\n",
       "       -0.051482,  0.23404 ,  0.50634 ,  0.41292 ,  0.24996 , -0.12791 ,\n",
       "        0.33124 ,  1.2024  , -0.4176  ,  0.083039, -0.035185,  0.22507 ,\n",
       "        0.046623,  0.044168,  1.0262  , -0.15211 ,  0.268   , -0.063099,\n",
       "        0.098951, -0.26087 , -1.7165  ,  0.60704 ,  0.63593 ,  0.7041  ,\n",
       "        0.23608 , -0.673   , -0.58736 ,  0.069367, -0.37012 , -0.32947 ,\n",
       "       -0.10242 , -0.20711 , -0.69569 ,  0.021247,  0.65592 ,  0.09189 ,\n",
       "       -0.13037 , -0.59474 ,  0.17548 ,  0.33628 , -0.72363 , -0.6054  ,\n",
       "       -0.0123  ,  0.78532 ,  0.40969 ,  0.63428 ,  0.17487 ,  0.50056 ,\n",
       "       -0.69332 , -0.59251 ,  0.17914 ,  0.46409 ,  0.79007 ,  0.12431 ,\n",
       "       -0.22714 ,  0.34608 ,  1.3969  , -0.93868 , -0.70178 ,  0.90836 ,\n",
       "       -1.3375  , -0.16929 ,  0.55931 , -0.46268 ,  0.33359 ,  0.26166 ,\n",
       "        0.46546 ,  0.59689 ,  0.041431, -0.21923 , -0.010241, -0.21066 ,\n",
       "       -0.25143 , -0.02137 ,  0.82939 ,  0.38196 ], dtype=float32)"
      ]
     },
     "execution_count": 87,
     "metadata": {},
     "output_type": "execute_result"
    }
   ],
   "source": [
    "embeddings_index.get('motorola')"
   ]
  }
 ],
 "metadata": {
  "kernelspec": {
   "display_name": "Python 3",
   "language": "python",
   "name": "python3"
  },
  "language_info": {
   "codemirror_mode": {
    "name": "ipython",
    "version": 3
   },
   "file_extension": ".py",
   "mimetype": "text/x-python",
   "name": "python",
   "nbconvert_exporter": "python",
   "pygments_lexer": "ipython3",
   "version": "3.6.5"
  }
 },
 "nbformat": 4,
 "nbformat_minor": 2
}
