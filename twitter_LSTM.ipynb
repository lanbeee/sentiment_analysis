{
 "cells": [
  {
   "cell_type": "code",
   "execution_count": 1,
   "metadata": {},
   "outputs": [
    {
     "name": "stderr",
     "output_type": "stream",
     "text": [
      "C:\\ProgramData\\Anaconda3\\lib\\site-packages\\h5py\\__init__.py:36: FutureWarning: Conversion of the second argument of issubdtype from `float` to `np.floating` is deprecated. In future, it will be treated as `np.float64 == np.dtype(float).type`.\n",
      "  from ._conv import register_converters as _register_converters\n",
      "Using TensorFlow backend.\n"
     ]
    }
   ],
   "source": [
    "import pandas as pd\n",
    "import nltk\n",
    "from nltk.corpus import stopwords\n",
    "import re\n",
    "from textblob import Word\n",
    "import numpy as np\n",
    "from keras.preprocessing.text import Tokenizer\n",
    "from keras.preprocessing.sequence import pad_sequences\n",
    "from keras.layers import Embedding\n",
    "from keras import preprocessing\n",
    "from keras.models import Sequential\n",
    "from keras.layers import Flatten, Dense, CuDNNLSTM"
   ]
  },
  {
   "cell_type": "code",
   "execution_count": 2,
   "metadata": {},
   "outputs": [],
   "source": [
    "df_anger = pd.read_table('train/EI-reg-En-anger-train.txt')\n",
    "df_fear = pd.read_table('train/EI-reg-En-fear-train.txt')\n",
    "df_joy = pd.read_table('train/EI-reg-En-joy-train.txt')\n",
    "df_sadness = pd.read_table('train/EI-reg-En-sadness-train.txt')\n",
    "train_df = [df_anger,df_fear,df_joy,df_sadness]"
   ]
  },
  {
   "cell_type": "code",
   "execution_count": 3,
   "metadata": {},
   "outputs": [],
   "source": [
    "#preprocess\n",
    "stop = stopwords.words('english')\n",
    "for train in train_df:\n",
    "    train['Tweet'] = train['Tweet'].apply(lambda x: \" \".join(word.lower() for word in x.split() if not word.startswith('@')))\n",
    "    train['Tweet'] = train['Tweet'].apply(lambda x: \" \".join(x for x in x.split() if x not in stop))\n",
    "    train['Tweet'] = train['Tweet'].str.replace('[^\\w\\s]','')\n",
    "    train['Tweet'] = train['Tweet'].apply(lambda x: \" \".join([re.sub(r'(.)\\1+', r'\\1\\1', word) for word in x.split()]))\n",
    "#     train['Tweet'] = train['Tweet'].apply(lambda x: \" \".join([Word(word).lemmatize() for word in x.split()]))"
   ]
  },
  {
   "cell_type": "code",
   "execution_count": 4,
   "metadata": {},
   "outputs": [],
   "source": [
    "# Better Results with higher threshold but training sample size reduced by increasing threshold\n",
    "th = 0.6 #threshold\n",
    "tweets = (pd.concat([train_df[0][train_df[0]['Intensity Score']> th]['Tweet'],\n",
    "                     train_df[1][train_df[1]['Intensity Score']> th]['Tweet'],\n",
    "                     train_df[2][train_df[2]['Intensity Score']> th]['Tweet'],\n",
    "                     train_df[3][train_df[3]['Intensity Score']> th]['Tweet']],\n",
    "                    axis = 0)).values\n",
    "\n",
    "labels = (pd.concat([train_df[0][train_df[0]['Intensity Score']> th]['Affect Dimension'],\n",
    "                     train_df[1][train_df[1]['Intensity Score']> th]['Affect Dimension'],\n",
    "                     train_df[2][train_df[2]['Intensity Score']> th]['Affect Dimension'],\n",
    "                     train_df[3][train_df[3]['Intensity Score']> th]['Affect Dimension']],\n",
    "                    axis = 0)).values\n",
    "\n",
    "labels = pd.get_dummies(labels).values"
   ]
  },
  {
   "cell_type": "code",
   "execution_count": 5,
   "metadata": {},
   "outputs": [
    {
     "data": {
      "text/plain": [
       "2219"
      ]
     },
     "execution_count": 5,
     "metadata": {},
     "output_type": "execute_result"
    }
   ],
   "source": [
    "len(labels)"
   ]
  },
  {
   "cell_type": "code",
   "execution_count": 7,
   "metadata": {},
   "outputs": [
    {
     "name": "stdout",
     "output_type": "stream",
     "text": [
      "Found 5838 unique tokens.\n",
      "Shape of data tensor: (2219, 140)\n",
      "Shape of label tensor: (2219, 4)\n"
     ]
    }
   ],
   "source": [
    "maxlen = 140\n",
    "training_samples = 2000\n",
    "validation_samples = 219\n",
    "max_words = 10000  # We will only consider the top 10000 words in the dataset\n",
    "\n",
    "tokenizer = Tokenizer(num_words=max_words)\n",
    "tokenizer.fit_on_texts(tweets)\n",
    "sequences = tokenizer.texts_to_sequences(tweets)\n",
    "\n",
    "word_index = tokenizer.word_index\n",
    "print('Found %s unique tokens.' % len(word_index))\n",
    "\n",
    "data = pad_sequences(sequences, maxlen=maxlen)\n",
    "\n",
    "labels = np.asarray(labels)\n",
    "print('Shape of data tensor:', data.shape)\n",
    "print('Shape of label tensor:', labels.shape)\n",
    "\n",
    "# Split the data into a training set and a validation set\n",
    "# But first, shuffle the data, since we started from data\n",
    "# where sample are ordered (all negative first, then all positive).\n",
    "indices = np.arange(data.shape[0])\n",
    "np.random.shuffle(indices)\n",
    "data = data[indices]\n",
    "labels = labels[indices]\n",
    "\n",
    "x_train = data[:training_samples]\n",
    "y_train = labels[:training_samples]\n",
    "x_val = data[training_samples: training_samples + validation_samples]\n",
    "y_val = labels[training_samples: training_samples + validation_samples]"
   ]
  },
  {
   "cell_type": "code",
   "execution_count": 8,
   "metadata": {},
   "outputs": [
    {
     "name": "stdout",
     "output_type": "stream",
     "text": [
      "Found 400000 word vectors.\n"
     ]
    }
   ],
   "source": [
    "import os\n",
    "glove_dir = 'glove/'\n",
    "\n",
    "embeddings_index = {}\n",
    "f = open(os.path.join(glove_dir, 'glove.6B.100d.txt'),encoding= 'utf8')\n",
    "for line in f:\n",
    "    values = line.split()\n",
    "    word = values[0]\n",
    "    coefs = np.asarray(values[1:], dtype='float32')\n",
    "    embeddings_index[word] = coefs\n",
    "f.close()\n",
    "\n",
    "print('Found %s word vectors.' % len(embeddings_index))"
   ]
  },
  {
   "cell_type": "code",
   "execution_count": 9,
   "metadata": {},
   "outputs": [],
   "source": [
    "embedding_dim = 100\n",
    "\n",
    "embedding_matrix = np.zeros((max_words, embedding_dim))\n",
    "for word, i in word_index.items():\n",
    "    embedding_vector = embeddings_index.get(word)\n",
    "    if i < max_words:\n",
    "        if embedding_vector is not None:\n",
    "            # Words not found in embedding index will be all-zeros.\n",
    "            embedding_matrix[i] = embedding_vector"
   ]
  },
  {
   "cell_type": "code",
   "execution_count": 10,
   "metadata": {
    "scrolled": true
   },
   "outputs": [
    {
     "name": "stdout",
     "output_type": "stream",
     "text": [
      "Train on 2000 samples, validate on 219 samples\n",
      "Epoch 1/15\n",
      "2000/2000 [==============================] - 9s 5ms/step - loss: 1.2472 - acc: 0.4710 - val_loss: 1.0131 - val_acc: 0.6712\n",
      "Epoch 2/15\n",
      "2000/2000 [==============================] - 1s 703us/step - loss: 0.7923 - acc: 0.7365 - val_loss: 0.5842 - val_acc: 0.8082\n",
      "Epoch 3/15\n",
      "2000/2000 [==============================] - 1s 695us/step - loss: 0.4199 - acc: 0.8705 - val_loss: 0.3988 - val_acc: 0.8630\n",
      "Epoch 4/15\n",
      "2000/2000 [==============================] - 1s 695us/step - loss: 0.2229 - acc: 0.9420 - val_loss: 0.3484 - val_acc: 0.8721\n",
      "Epoch 5/15\n",
      "2000/2000 [==============================] - 1s 697us/step - loss: 0.1298 - acc: 0.9660 - val_loss: 0.3468 - val_acc: 0.8676\n",
      "Epoch 6/15\n",
      "2000/2000 [==============================] - 1s 694us/step - loss: 0.0862 - acc: 0.9765 - val_loss: 0.3384 - val_acc: 0.8721\n",
      "Epoch 7/15\n",
      "2000/2000 [==============================] - 1s 695us/step - loss: 0.0638 - acc: 0.9805 - val_loss: 0.3332 - val_acc: 0.8904\n",
      "Epoch 8/15\n",
      "2000/2000 [==============================] - 1s 695us/step - loss: 0.0527 - acc: 0.9810 - val_loss: 0.3323 - val_acc: 0.8858\n",
      "Epoch 9/15\n",
      "2000/2000 [==============================] - 1s 720us/step - loss: 0.0445 - acc: 0.9840 - val_loss: 0.3737 - val_acc: 0.8676\n",
      "Epoch 10/15\n",
      "2000/2000 [==============================] - 1s 703us/step - loss: 0.0392 - acc: 0.9820 - val_loss: 0.3529 - val_acc: 0.8813\n",
      "Epoch 11/15\n",
      "2000/2000 [==============================] - 1s 691us/step - loss: 0.0369 - acc: 0.9805 - val_loss: 0.3482 - val_acc: 0.8813\n",
      "Epoch 12/15\n",
      "2000/2000 [==============================] - 1s 700us/step - loss: 0.0341 - acc: 0.9820 - val_loss: 0.4348 - val_acc: 0.8584\n",
      "Epoch 13/15\n",
      "2000/2000 [==============================] - 1s 695us/step - loss: 0.0331 - acc: 0.9810 - val_loss: 0.4120 - val_acc: 0.8858\n",
      "Epoch 14/15\n",
      "2000/2000 [==============================] - 1s 700us/step - loss: 0.0309 - acc: 0.9835 - val_loss: 0.3781 - val_acc: 0.8858\n",
      "Epoch 15/15\n",
      "2000/2000 [==============================] - 1s 695us/step - loss: 0.0304 - acc: 0.9835 - val_loss: 0.3755 - val_acc: 0.8904\n"
     ]
    }
   ],
   "source": [
    "model = Sequential()\n",
    "# model.add(Embedding(max_words, embedding_dim, input_length=maxlen))\n",
    "model.add(Embedding(max_words, embedding_dim, weights=[embedding_matrix], input_length=maxlen))\n",
    "model.add(CuDNNLSTM(32))\n",
    "model.add(Dense(4, activation='softmax'))\n",
    "\n",
    "model.compile(optimizer='adam',\n",
    "              loss='categorical_crossentropy',\n",
    "              metrics=['acc'])\n",
    "history = model.fit(x_train, y_train,\n",
    "                    epochs=15,\n",
    "                    batch_size=32,\n",
    "                    validation_data=(x_val, y_val))"
   ]
  },
  {
   "cell_type": "code",
   "execution_count": 20,
   "metadata": {},
   "outputs": [],
   "source": [
    "test_list = []\n",
    "test_list.append('This makes me furious.')\n",
    "test_list.append('I am so sorry for your loss')\n",
    "test_list.append('The movie so bad.')\n",
    "test_list.append('Congratulations you finally passed the exam.')\n",
    "test_list.append('Everything is doomed to fail.')"
   ]
  },
  {
   "cell_type": "code",
   "execution_count": 21,
   "metadata": {},
   "outputs": [],
   "source": [
    "test_seq = tokenizer.texts_to_sequences(test_list)\n",
    "test = pad_sequences(test_seq, maxlen=maxlen)"
   ]
  },
  {
   "cell_type": "code",
   "execution_count": 22,
   "metadata": {},
   "outputs": [
    {
     "name": "stdout",
     "output_type": "stream",
     "text": [
      "This makes me furious. [0.996 0.001 0.001 0.001]\n",
      "\n",
      "I am so sorry for your loss [0.    0.001 0.    0.998]\n",
      "\n",
      "The movie so bad. [0.009 0.818 0.011 0.162]\n",
      "\n",
      "Congratulations you finally passed the exam. [0.002 0.001 0.995 0.003]\n",
      "\n",
      "Everything is doomed to fail. [0.02  0.559 0.078 0.343]\n",
      "\n"
     ]
    }
   ],
   "source": [
    "res = np.round(model.predict(test),3) # anger,fear,joy,sadness\n",
    "for i,j in zip(test_list,res):\n",
    "    print(i,j)\n",
    "    print()"
   ]
  },
  {
   "cell_type": "code",
   "execution_count": null,
   "metadata": {},
   "outputs": [],
   "source": [
    "embeddings_index.get('motorola')"
   ]
  }
 ],
 "metadata": {
  "kernelspec": {
   "display_name": "Python 3",
   "language": "python",
   "name": "python3"
  },
  "language_info": {
   "codemirror_mode": {
    "name": "ipython",
    "version": 3
   },
   "file_extension": ".py",
   "mimetype": "text/x-python",
   "name": "python",
   "nbconvert_exporter": "python",
   "pygments_lexer": "ipython3",
   "version": "3.6.5"
  }
 },
 "nbformat": 4,
 "nbformat_minor": 2
}
